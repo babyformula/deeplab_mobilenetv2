{
  "nbformat": 4,
  "nbformat_minor": 0,
  "metadata": {
    "colab": {
      "name": "deeplab_pytorch.ipynb",
      "version": "0.3.2",
      "provenance": [],
      "toc_visible": true,
      "include_colab_link": true
    },
    "kernelspec": {
      "name": "python2",
      "display_name": "Python 2"
    },
    "accelerator": "GPU"
  },
  "cells": [
    {
      "cell_type": "markdown",
      "metadata": {
        "id": "view-in-github",
        "colab_type": "text"
      },
      "source": [
        "[View in Colaboratory](https://colab.research.google.com/github/babyformula/deeplab_mobilenetv2/blob/master/deeplab_pytorch.ipynb)"
      ]
    },
    {
      "metadata": {
        "id": "b57MYYFcW_d-",
        "colab_type": "text"
      },
      "cell_type": "markdown",
      "source": [
        ""
      ]
    },
    {
      "metadata": {
        "id": "sMCushF4W5cl",
        "colab_type": "text"
      },
      "cell_type": "markdown",
      "source": [
        "# 前置"
      ]
    },
    {
      "metadata": {
        "id": "8sEk7lKUEku7",
        "colab_type": "code",
        "colab": {
          "base_uri": "https://localhost:8080/",
          "height": 241
        },
        "outputId": "d3d8d014-5a2d-4927-f3eb-21c41df3575e"
      },
      "cell_type": "code",
      "source": [
        "!pip install torch torchvision tensorboardX"
      ],
      "execution_count": 4,
      "outputs": [
        {
          "output_type": "stream",
          "text": [
            "Requirement already satisfied: torch in /usr/local/lib/python2.7/dist-packages (0.4.1)\n",
            "Requirement already satisfied: torchvision in /usr/local/lib/python2.7/dist-packages (0.2.1)\n",
            "Collecting tensorboardX\n",
            "\u001b[?25l  Downloading https://files.pythonhosted.org/packages/b1/d2/e08fe62f3554fbba081e80f6b23128df53b2f74ed4dcde73ec4a84dc53fb/tensorboardX-1.4-py2.py3-none-any.whl (67kB)\n",
            "\u001b[K    100% |████████████████████████████████| 71kB 2.7MB/s \n",
            "\u001b[?25hRequirement already satisfied: six in /usr/local/lib/python2.7/dist-packages (from torchvision) (1.11.0)\n",
            "Requirement already satisfied: numpy in /usr/local/lib/python2.7/dist-packages (from torchvision) (1.14.6)\n",
            "Requirement already satisfied: pillow>=4.1.1 in /usr/local/lib/python2.7/dist-packages (from torchvision) (5.3.0)\n",
            "Requirement already satisfied: protobuf>=3.2.0 in /usr/local/lib/python2.7/dist-packages (from tensorboardX) (3.6.1)\n",
            "Requirement already satisfied: setuptools in /usr/local/lib/python2.7/dist-packages (from protobuf>=3.2.0->tensorboardX) (40.4.3)\n",
            "Installing collected packages: tensorboardX\n",
            "Successfully installed tensorboardX-1.4\n"
          ],
          "name": "stdout"
        }
      ]
    },
    {
      "metadata": {
        "id": "rAZXjMaNFJop",
        "colab_type": "code",
        "colab": {
          "base_uri": "https://localhost:8080/",
          "height": 122
        },
        "outputId": "be497e64-98b0-4af3-e670-e4b1a2995777"
      },
      "cell_type": "code",
      "source": [
        "from google.colab import drive\n",
        "drive.mount('/content/drive')"
      ],
      "execution_count": 7,
      "outputs": [
        {
          "output_type": "stream",
          "text": [
            "Go to this URL in a browser: https://accounts.google.com/o/oauth2/auth?client_id=947318989803-6bn6qk8qdgf4n4g3pfee6491hc0brc4i.apps.googleusercontent.com&redirect_uri=urn%3Aietf%3Awg%3Aoauth%3A2.0%3Aoob&scope=email%20https%3A%2F%2Fwww.googleapis.com%2Fauth%2Fdocs.test%20https%3A%2F%2Fwww.googleapis.com%2Fauth%2Fdrive%20https%3A%2F%2Fwww.googleapis.com%2Fauth%2Fdrive.photos.readonly%20https%3A%2F%2Fwww.googleapis.com%2Fauth%2Fpeopleapi.readonly&response_type=code\n",
            "\n",
            "Enter your authorization code:\n",
            "··········\n",
            "Mounted at /content/drive\n"
          ],
          "name": "stdout"
        }
      ]
    },
    {
      "metadata": {
        "id": "R6d80JtHQINk",
        "colab_type": "code",
        "colab": {}
      },
      "cell_type": "code",
      "source": [
        "os.listdir(\"drive/My Drive\")\n",
        "!cp drive/My\\ Drive/init.py dataloaders/\n",
        "!mv dataloaders/init.py dataloaders/__init__.py"
      ],
      "execution_count": 0,
      "outputs": []
    },
    {
      "metadata": {
        "id": "acwTn_ksIWsd",
        "colab_type": "code",
        "colab": {
          "base_uri": "https://localhost:8080/",
          "height": 51
        },
        "outputId": "94537d65-439f-4da0-ae75-e14e79d2c635"
      },
      "cell_type": "code",
      "source": [
        "!mv deeplab_mobilenetv2.py networks/\n",
        "!mv deeplab_resnet.py networks/\n",
        "!mv deeplab_xception.py networks/"
      ],
      "execution_count": 39,
      "outputs": [
        {
          "output_type": "stream",
          "text": [
            "mv: cannot stat 'deeplab_resnet.py': No such file or directory\n",
            "mv: cannot stat 'deeplab_xception.py': No such file or directory\n"
          ],
          "name": "stdout"
        }
      ]
    },
    {
      "metadata": {
        "id": "MPh0BFbRb7Fv",
        "colab_type": "code",
        "colab": {}
      },
      "cell_type": "code",
      "source": [
        "!rm -rf networks/deeplab_mobilenetv2.py"
      ],
      "execution_count": 0,
      "outputs": []
    },
    {
      "metadata": {
        "id": "ALWjSETSXEpu",
        "colab_type": "text"
      },
      "cell_type": "markdown",
      "source": [
        "# 加载模块"
      ]
    },
    {
      "metadata": {
        "id": "ZVrRTOqqiUC1",
        "colab_type": "code",
        "colab": {}
      },
      "cell_type": "code",
      "source": [
        "import socket\n",
        "import timeit\n",
        "from datetime import datetime\n",
        "import os\n",
        "import glob\n",
        "from collections import OrderedDict\n",
        "\n",
        "# PyTorch includes\n",
        "import torch\n",
        "from torch.autograd import Variable\n",
        "import torch.optim as optim\n",
        "from torchvision import transforms\n",
        "from torch.utils.data import DataLoader\n",
        "from torchvision.utils import make_grid\n",
        "\n",
        "\n",
        "# Tensorboard include\n",
        "from tensorboardX import SummaryWriter\n",
        "\n",
        "# Custom includes\n",
        "from dataloaders import pascal, sbd, combine_dbs\n",
        "from dataloaders import utils\n",
        "from networks import deeplab_xception, deeplab_resnet, deeplab_mobilenetv2\n",
        "from dataloaders import custom_transforms as tr"
      ],
      "execution_count": 0,
      "outputs": []
    },
    {
      "metadata": {
        "id": "QQ5uJoxKXgAP",
        "colab_type": "text"
      },
      "cell_type": "markdown",
      "source": [
        "#参数设置"
      ]
    },
    {
      "metadata": {
        "id": "sX3V8IK9WtOP",
        "colab_type": "code",
        "colab": {
          "base_uri": "https://localhost:8080/",
          "height": 253
        },
        "outputId": "9edda1e4-e5fa-455b-c493-a2a0ad42d218"
      },
      "cell_type": "code",
      "source": [
        "gpu_id = 0\n",
        "print('Using GPU: {} '.format(gpu_id))\n",
        "# Setting parameters\n",
        "use_sbd = True  # Whether to use SBD dataset\n",
        "nEpochs = 100  # Number of epochs for training\n",
        "resume_epoch = 0   # Default is 0, change if want to resume\n",
        "\n",
        "p = OrderedDict()  # Parameters to include in report\n",
        "p['trainBatch'] = 6  # Training batch size\n",
        "testBatch = 6  # Testing batch size\n",
        "useTest = True  # See evolution of the test set when training\n",
        "nTestInterval = 5 # Run on test set every nTestInterval epochs\n",
        "snapshot = 10  # Store a model every snapshot epochs\n",
        "p['nAveGrad'] = 1  # Average the gradient of several iterations\n",
        "p['lr'] = 1e-7  # Learning rate\n",
        "p['wd'] = 5e-4  # Weight decay\n",
        "p['momentum'] = 0.9  # Momentum\n",
        "p['epoch_size'] = 10  # How many epochs to change learning rate\n",
        "backbone = 'mobilenetv2' # Use xception or resnet as feature extractor,\n",
        "\n",
        "save_dir_root = os.path.join(os.path.dirname(os.path.abspath(__file__)))\n",
        "exp_name = os.path.dirname(os.path.abspath(__file__)).split('/')[-1]\n",
        "\n",
        "if resume_epoch != 0:\n",
        "    runs = sorted(glob.glob(os.path.join(save_dir_root, 'run', 'run_*')))\n",
        "    run_id = int(runs[-1].split('_')[-1]) if runs else 0\n",
        "else:\n",
        "    runs = sorted(glob.glob(os.path.join(save_dir_root, 'run', 'run_*')))\n",
        "    run_id = int(runs[-1].split('_')[-1]) + 1 if runs else 0\n",
        "\n",
        "save_dir = os.path.join(save_dir_root, 'run', 'run_' + str(run_id))"
      ],
      "execution_count": 41,
      "outputs": [
        {
          "output_type": "stream",
          "text": [
            "Using GPU: 0 \n"
          ],
          "name": "stdout"
        },
        {
          "output_type": "error",
          "ename": "NameError",
          "evalue": "ignored",
          "traceback": [
            "\u001b[0;31m\u001b[0m",
            "\u001b[0;31mNameError\u001b[0mTraceback (most recent call last)",
            "\u001b[0;32m<ipython-input-41-42aa3b55abbf>\u001b[0m in \u001b[0;36m<module>\u001b[0;34m()\u001b[0m\n\u001b[1;32m     19\u001b[0m \u001b[0mbackbone\u001b[0m \u001b[0;34m=\u001b[0m \u001b[0;34m'mobilenetv2'\u001b[0m \u001b[0;31m# Use xception or resnet as feature extractor,\u001b[0m\u001b[0;34m\u001b[0m\u001b[0m\n\u001b[1;32m     20\u001b[0m \u001b[0;34m\u001b[0m\u001b[0m\n\u001b[0;32m---> 21\u001b[0;31m \u001b[0msave_dir_root\u001b[0m \u001b[0;34m=\u001b[0m \u001b[0mos\u001b[0m\u001b[0;34m.\u001b[0m\u001b[0mpath\u001b[0m\u001b[0;34m.\u001b[0m\u001b[0mjoin\u001b[0m\u001b[0;34m(\u001b[0m\u001b[0mos\u001b[0m\u001b[0;34m.\u001b[0m\u001b[0mpath\u001b[0m\u001b[0;34m.\u001b[0m\u001b[0mdirname\u001b[0m\u001b[0;34m(\u001b[0m\u001b[0mos\u001b[0m\u001b[0;34m.\u001b[0m\u001b[0mpath\u001b[0m\u001b[0;34m.\u001b[0m\u001b[0mabspath\u001b[0m\u001b[0;34m(\u001b[0m\u001b[0m__file__\u001b[0m\u001b[0;34m)\u001b[0m\u001b[0;34m)\u001b[0m\u001b[0;34m)\u001b[0m\u001b[0;34m\u001b[0m\u001b[0m\n\u001b[0m\u001b[1;32m     22\u001b[0m \u001b[0mexp_name\u001b[0m \u001b[0;34m=\u001b[0m \u001b[0mos\u001b[0m\u001b[0;34m.\u001b[0m\u001b[0mpath\u001b[0m\u001b[0;34m.\u001b[0m\u001b[0mdirname\u001b[0m\u001b[0;34m(\u001b[0m\u001b[0mos\u001b[0m\u001b[0;34m.\u001b[0m\u001b[0mpath\u001b[0m\u001b[0;34m.\u001b[0m\u001b[0mabspath\u001b[0m\u001b[0;34m(\u001b[0m\u001b[0m__file__\u001b[0m\u001b[0;34m)\u001b[0m\u001b[0;34m)\u001b[0m\u001b[0;34m.\u001b[0m\u001b[0msplit\u001b[0m\u001b[0;34m(\u001b[0m\u001b[0;34m'/'\u001b[0m\u001b[0;34m)\u001b[0m\u001b[0;34m[\u001b[0m\u001b[0;34m-\u001b[0m\u001b[0;36m1\u001b[0m\u001b[0;34m]\u001b[0m\u001b[0;34m\u001b[0m\u001b[0m\n\u001b[1;32m     23\u001b[0m \u001b[0;34m\u001b[0m\u001b[0m\n",
            "\u001b[0;31mNameError\u001b[0m: name '__file__' is not defined"
          ]
        }
      ]
    },
    {
      "metadata": {
        "id": "OIZ0hReoZvAz",
        "colab_type": "code",
        "colab": {
          "base_uri": "https://localhost:8080/",
          "height": 236
        },
        "outputId": "ab11ea9f-d442-454c-ac79-338ac8e7bff5"
      },
      "cell_type": "code",
      "source": [
        "# Network definition\n",
        "if backbone == 'xception':\n",
        "    net = deeplab_xception.DeepLabv3_plus(nInputChannels=3, n_classes=21, os=16, pretrained=True)\n",
        "elif backbone == 'resnet':\n",
        "    net = deeplab_resnet.DeepLabv3_plus(nInputChannels=3, n_classes=21, os=16, pretrained=True)\n",
        "elif backbone == 'mobilenetv2':\n",
        "    net = deeplab_mobilenetv2.DeepLabv3_plus(nInputChannels=3, n_classes=21, os=16, pretrained=True)\n",
        "else:\n",
        "    raise NotImplementedError\n",
        "\n",
        "modelName = 'deeplabv3plus-' + backbone + '-voc'\n",
        "criterion = utils.cross_entropy2d"
      ],
      "execution_count": 42,
      "outputs": [
        {
          "output_type": "error",
          "ename": "AttributeError",
          "evalue": "ignored",
          "traceback": [
            "\u001b[0;31m\u001b[0m",
            "\u001b[0;31mAttributeError\u001b[0mTraceback (most recent call last)",
            "\u001b[0;32m<ipython-input-42-1122a9241f19>\u001b[0m in \u001b[0;36m<module>\u001b[0;34m()\u001b[0m\n\u001b[1;32m      4\u001b[0m     \u001b[0mnet\u001b[0m \u001b[0;34m=\u001b[0m \u001b[0mdeeplab_resnet\u001b[0m\u001b[0;34m.\u001b[0m\u001b[0mDeepLabv3_plus\u001b[0m\u001b[0;34m(\u001b[0m\u001b[0mnInputChannels\u001b[0m\u001b[0;34m=\u001b[0m\u001b[0;36m3\u001b[0m\u001b[0;34m,\u001b[0m \u001b[0mn_classes\u001b[0m\u001b[0;34m=\u001b[0m\u001b[0;36m21\u001b[0m\u001b[0;34m,\u001b[0m \u001b[0mos\u001b[0m\u001b[0;34m=\u001b[0m\u001b[0;36m16\u001b[0m\u001b[0;34m,\u001b[0m \u001b[0mpretrained\u001b[0m\u001b[0;34m=\u001b[0m\u001b[0mTrue\u001b[0m\u001b[0;34m)\u001b[0m\u001b[0;34m\u001b[0m\u001b[0m\n\u001b[1;32m      5\u001b[0m \u001b[0;32melif\u001b[0m \u001b[0mbackbone\u001b[0m \u001b[0;34m==\u001b[0m \u001b[0;34m'mobilenetv2'\u001b[0m\u001b[0;34m:\u001b[0m\u001b[0;34m\u001b[0m\u001b[0m\n\u001b[0;32m----> 6\u001b[0;31m     \u001b[0mnet\u001b[0m \u001b[0;34m=\u001b[0m \u001b[0mdeeplab_mobilenetv2\u001b[0m\u001b[0;34m.\u001b[0m\u001b[0mDeepLabv3_plus\u001b[0m\u001b[0;34m(\u001b[0m\u001b[0mnInputChannels\u001b[0m\u001b[0;34m=\u001b[0m\u001b[0;36m3\u001b[0m\u001b[0;34m,\u001b[0m \u001b[0mn_classes\u001b[0m\u001b[0;34m=\u001b[0m\u001b[0;36m21\u001b[0m\u001b[0;34m,\u001b[0m \u001b[0mos\u001b[0m\u001b[0;34m=\u001b[0m\u001b[0;36m16\u001b[0m\u001b[0;34m,\u001b[0m \u001b[0mpretrained\u001b[0m\u001b[0;34m=\u001b[0m\u001b[0mTrue\u001b[0m\u001b[0;34m)\u001b[0m\u001b[0;34m\u001b[0m\u001b[0m\n\u001b[0m\u001b[1;32m      7\u001b[0m \u001b[0;32melse\u001b[0m\u001b[0;34m:\u001b[0m\u001b[0;34m\u001b[0m\u001b[0m\n\u001b[1;32m      8\u001b[0m     \u001b[0;32mraise\u001b[0m \u001b[0mNotImplementedError\u001b[0m\u001b[0;34m\u001b[0m\u001b[0m\n",
            "\u001b[0;31mAttributeError\u001b[0m: 'module' object has no attribute 'DeepLabv3_plus'"
          ]
        }
      ]
    }
  ]
}